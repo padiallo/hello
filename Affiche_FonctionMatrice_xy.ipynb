{
  "nbformat": 4,
  "nbformat_minor": 0,
  "metadata": {
    "colab": {
      "provenance": [],
      "authorship_tag": "ABX9TyOcfFl+iUd07Uw+Iw2J2zBl",
      "include_colab_link": true
    },
    "kernelspec": {
      "name": "python3",
      "display_name": "Python 3"
    },
    "language_info": {
      "name": "python"
    }
  },
  "cells": [
    {
      "cell_type": "markdown",
      "metadata": {
        "id": "view-in-github",
        "colab_type": "text"
      },
      "source": [
        "<a href=\"https://colab.research.google.com/github/padiallo/hello/blob/main/Affiche_FonctionMatrice_xy.ipynb\" target=\"_parent\"><img src=\"https://colab.research.google.com/assets/colab-badge.svg\" alt=\"Open In Colab\"/></a>"
      ]
    },
    {
      "cell_type": "code",
      "execution_count": 1,
      "metadata": {
        "colab": {
          "base_uri": "https://localhost:8080/",
          "height": 78
        },
        "id": "cyYZ8vyEYTU2",
        "outputId": "efae25f9-b796-4005-b557-5f44ab13a5a8"
      },
      "outputs": [
        {
          "output_type": "display_data",
          "data": {
            "text/plain": [
              "<IPython.core.display.Math object>"
            ],
            "text/latex": "$\\displaystyle \\left[\\begin{matrix}8.0 & 4.0 & 0.0\\\\10.0 & 5.0 & 0.0\\\\12.0 & 6.0 & 0.0\\end{matrix}\\right]$"
          },
          "metadata": {}
        }
      ],
      "source": [
        "#f(x,y) =(4+x)(2-y) et x,y appartient à {0,1,2}\n",
        "import sympy as symp\n",
        "from IPython.display import display, Math\n",
        "import numpy as np\n",
        "\n",
        "\n",
        "x,y = symp.symbols('x,y')\n",
        "    \n",
        "Fxy = (4+x)*(2-y)\n",
        "SETxy = range(0,3)\n",
        "sortiematrice = np.zeros([len(SETxy),len(SETxy)])\n",
        "    \n",
        "for i in SETxy:\n",
        "    for j in SETxy:\n",
        "        sortiematrice[i,j]=Fxy.subs({x:i,y:j})\n",
        "\n",
        "display(Math(symp.latex(symp.sympify(sortiematrice))))"
      ]
    }
  ]
}