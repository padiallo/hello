{
  "nbformat": 4,
  "nbformat_minor": 0,
  "metadata": {
    "colab": {
      "provenance": [],
      "authorship_tag": "ABX9TyPV4CWFu5QTJzeTY8w1ojn3",
      "include_colab_link": true
    },
    "kernelspec": {
      "name": "python3",
      "display_name": "Python 3"
    },
    "language_info": {
      "name": "python"
    }
  },
  "cells": [
    {
      "cell_type": "markdown",
      "metadata": {
        "id": "view-in-github",
        "colab_type": "text"
      },
      "source": [
        "<a href=\"https://colab.research.google.com/github/padiallo/hello/blob/main/CommandeUtile.ipynb\" target=\"_parent\"><img src=\"https://colab.research.google.com/assets/colab-badge.svg\" alt=\"Open In Colab\"/></a>"
      ]
    },
    {
      "cell_type": "code",
      "execution_count": null,
      "metadata": {
        "id": "ZyTH-hNnhtJM"
      },
      "outputs": [],
      "source": [
        "#Import de données\n",
        "\n",
        "pd.read_csv(filename) # From a CSV file\n",
        "pd.read_table(filename) # From a delimited text file (like TSV)\n",
        "pd.read_excel(filename) # From an Excel file\n",
        "pd.read_sql(query, connection_object) # Reads from a SQL table/database\n",
        "pd.read_json(json_string) # Reads from a JSON formatted string, URL or file.\n",
        "pd.read_html(url) # Parses an html URL, string or file and extracts tables to a list of dataframes\n",
        "pd.read_clipboard() # Takes the contents of your clipboard and passes it to read_table()\n",
        "pd.DataFrame(dict) # From a dict, keys for columns names, values for data as lists\n"
      ]
    },
    {
      "cell_type": "code",
      "source": [
        "#Exploration les données\n",
        "\n",
        "df.shape() # Prints number of rows and columns in dataframe\n",
        "df.head(n) # Prints first n rows of the DataFrame\n",
        "df.tail(n) # Prints last n rows of the DataFrame\n",
        "df.info() # Index, Datatype and Memory information\n",
        "df.describe() # Summary statistics for numerical columns\n",
        "s.value_counts(dropna=False) # Views unique values and counts\n",
        "df.apply(pd.Series.value_counts) # Unique values and counts for all columns\n",
        "df.describe() # Summary statistics for numerical columns\n",
        "df.mean() # Returns the mean of all columns\n",
        "df.corr() # Returns the correlation between columns in a DataFrame\n",
        "df.count() # Returns the number of non-null values in each DataFrame column\n",
        "df.max() # Returns the highest value in each column\n",
        "df.min() # Returns the lowest value in each column\n",
        "df.median() # Returns the median of each column\n",
        "df.std() # Returns the standard deviation of each column"
      ],
      "metadata": {
        "id": "uBgIlsQYiHM_"
      },
      "execution_count": null,
      "outputs": []
    }
  ]
}