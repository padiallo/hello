{
  "nbformat": 4,
  "nbformat_minor": 0,
  "metadata": {
    "colab": {
      "provenance": [],
      "authorship_tag": "ABX9TyPIssBSzeOdu2h6d8ugncjk",
      "include_colab_link": true
    },
    "kernelspec": {
      "name": "python3",
      "display_name": "Python 3"
    },
    "language_info": {
      "name": "python"
    }
  },
  "cells": [
    {
      "cell_type": "markdown",
      "metadata": {
        "id": "view-in-github",
        "colab_type": "text"
      },
      "source": [
        "<a href=\"https://colab.research.google.com/github/padiallo/hello/blob/main/Fifa23.ipynb\" target=\"_parent\"><img src=\"https://colab.research.google.com/assets/colab-badge.svg\" alt=\"Open In Colab\"/></a>"
      ]
    },
    {
      "cell_type": "code",
      "execution_count": null,
      "metadata": {
        "id": "0xdl4b8N5FzW"
      },
      "outputs": [],
      "source": [
        "#https://github.com/GokuMohandas/Made-With-ML/blob/4ad626098aca25db5628fe67895e738d5a5c2c2a/notebooks/03_Pandas.ipynb\n",
        "#on peut rechercher différent codes ici par exemple les filtres ou # Histograms df[\"age\"].hist()\n",
        "#https://elitedatascience.com/python-cheat-sheet\n",
        "#https://stackoverflow.com/questions/39684548/convert-the-string-2-90k-to-2900-or-5-2m-to-5200000-in-pandas-dataframe\n",
        "\n",
        "import matplotlib.pyplot as plt\n",
        "import pandas as pd\n",
        "df=pd.read_csv(r\"C:\\Users\\bmd tech\\anaconda3MAY2023\\MesProjets\\Statistiques\\fifa23\\joueurs.csv\")\n",
        "#df.describe()\n",
        "#df.values notre data frame est stockée dans un tableau\n",
        "# Histograms\n",
        "#dfage35=df[df[\"Age\"]>35].head()\n",
        "#dfage35['Age'].describe()\n",
        "#df[\"Age\"]\n",
        "\n",
        "#je filtre sur les colonnes valeurs valeur et salaire (wage) afin de voir queles sont les joeurs qui sont meilleurs marchés\n",
        "\n",
        "dfanalyse=pd.DataFrame(df, columns=[\"Name\",\"age\",\"values\",\"Wage\"])\n",
        "dfanalyse"
      ]
    }
  ]
}