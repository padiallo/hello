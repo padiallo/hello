{
  "nbformat": 4,
  "nbformat_minor": 0,
  "metadata": {
    "colab": {
      "provenance": [],
      "authorship_tag": "ABX9TyPHyyvUsQ/QCtEoYPyJVpg/",
      "include_colab_link": true
    },
    "kernelspec": {
      "name": "python3",
      "display_name": "Python 3"
    },
    "language_info": {
      "name": "python"
    }
  },
  "cells": [
    {
      "cell_type": "markdown",
      "metadata": {
        "id": "view-in-github",
        "colab_type": "text"
      },
      "source": [
        "<a href=\"https://colab.research.google.com/github/padiallo/hello/blob/main/SymetriqueMatrice.ipynb\" target=\"_parent\"><img src=\"https://colab.research.google.com/assets/colab-badge.svg\" alt=\"Open In Colab\"/></a>"
      ]
    },
    {
      "cell_type": "code",
      "execution_count": 14,
      "metadata": {
        "colab": {
          "base_uri": "https://localhost:8080/",
          "height": 210
        },
        "id": "GZOpwSZhtPXp",
        "outputId": "7ae3f7b8-ade1-4d01-e112-ffa077f5b310"
      },
      "outputs": [
        {
          "output_type": "execute_result",
          "data": {
            "text/plain": [
              "Text(0.5, 1.0, 'Matam$^T$')"
            ]
          },
          "metadata": {},
          "execution_count": 14
        },
        {
          "output_type": "display_data",
          "data": {
            "text/plain": [
              "<Figure size 640x480 with 4 Axes>"
            ],
            "image/png": "[encoded data removed]"
          },
          "metadata": {}
        }
      ],
      "source": [
        "import numpy as np\n",
        "import matplotlib.pyplot as plt\n",
        "\n",
        "m = 2\n",
        "n= 4\n",
        "\n",
        "Mat = np.random.randn(m,n)\n",
        "\n",
        "#Palindrome (Mat-Tam)\n",
        "Matam =Mat@Mat.T\n",
        "MatamT= Matam.T\n",
        "\n",
        "fig,ax = plt.subplots(1,4)\n",
        "\n",
        "ax[0].imshow(Mat)\n",
        "ax[0].set_title(\"Mat\")\n",
        "\n",
        "ax[1].imshow(Mat)\n",
        "ax[1].set_title(\"Mat$^T$\")\n",
        "\n",
        "\n",
        "ax[2].imshow(Matam)\n",
        "ax[2].set_title(\"Matam\")\n",
        "\n",
        "\n",
        "ax[3].imshow(Matam)\n",
        "ax[3].set_title(\"Matam$^T$\")\n",
        "  \n",
        "\n",
        "  \n",
        "  \n",
        "  "
      ]
    }
  ]
}