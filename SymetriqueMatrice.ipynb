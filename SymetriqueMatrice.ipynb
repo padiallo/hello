{
  "nbformat": 4,
  "nbformat_minor": 0,
  "metadata": {
    "colab": {
      "provenance": [],
      "authorship_tag": "ABX9TyN6lTvE/HNLj7whorb/BAqP",
      "include_colab_link": true
    },
    "kernelspec": {
      "name": "python3",
      "display_name": "Python 3"
    },
    "language_info": {
      "name": "python"
    }
  },
  "cells": [
    {
      "cell_type": "markdown",
      "metadata": {
        "id": "view-in-github",
        "colab_type": "text"
      },
      "source": [
        "<a href=\"https://colab.research.google.com/github/padiallo/hello/blob/main/SymetriqueMatrice.ipynb\" target=\"_parent\"><img src=\"https://colab.research.google.com/assets/colab-badge.svg\" alt=\"Open In Colab\"/></a>"
      ]
    },
    {
      "cell_type": "code",
      "execution_count": 8,
      "metadata": {
        "colab": {
          "base_uri": "https://localhost:8080/",
          "height": 317
        },
        "id": "GZOpwSZhtPXp",
        "outputId": "de58910f-f626-4b8b-d474-cc79a7926bd0"
      },
      "outputs": [
        {
          "output_type": "display_data",
          "data": {
            "text/plain": [
              "<Figure size 640x480 with 4 Axes>"
            ],
            "image/png": "[encoded data removed]"
          },
          "metadata": {}
        },
        {
          "output_type": "stream",
          "name": "stdout",
          "text": [
            "[[0. 0.]\n",
            " [0. 0.]]\n",
            "[[2.12725458 2.39475093]\n",
            " [2.39475093 3.28454314]]\n"
          ]
        }
      ],
      "source": [
        "#Montrer que le résultat de la multiplication d'une matrice (carrée ou non carrée)\n",
        "# par son transposé est symétrique\n",
        "\n",
        "import numpy as np\n",
        "import matplotlib.pyplot as plt\n",
        "\n",
        "m = 2\n",
        "n= 3\n",
        "\n",
        "Mat = np.random.randn(m,n)\n",
        "\n",
        "#Palindrome (Mat-Tam)\n",
        "Matam =Mat@Mat.T\n",
        "MatamT= Matam.T\n",
        "\n",
        "fig,ax = plt.subplots(1,4)\n",
        "\n",
        "ax[0].imshow(Mat)\n",
        "ax[0].set_title(\"Mat\")\n",
        "\n",
        "ax[1].imshow(Mat.T)\n",
        "ax[1].set_title(\"Mat$^T$\")\n",
        "\n",
        "\n",
        "ax[2].imshow(Matam)\n",
        "ax[2].set_title(\"Matam\")\n",
        "\n",
        "\n",
        "ax[3].imshow(Matam)\n",
        "ax[3].set_title(\"Matam$^T$\")\n",
        "\n",
        "plt.show()\n",
        "\n",
        "print(Matam-MatamT)\n",
        "print((Matam+MatamT)/2)"
      ]
    }
  ]
}